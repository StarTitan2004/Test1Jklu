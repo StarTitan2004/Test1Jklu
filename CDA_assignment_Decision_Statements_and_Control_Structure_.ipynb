{
  "nbformat": 4,
  "nbformat_minor": 0,
  "metadata": {
    "colab": {
      "provenance": [],
      "authorship_tag": "ABX9TyMWyE08xSwKECaYvFwyBRYY",
      "include_colab_link": true
    },
    "kernelspec": {
      "name": "python3",
      "display_name": "Python 3"
    },
    "language_info": {
      "name": "python"
    }
  },
  "cells": [
    {
      "cell_type": "markdown",
      "metadata": {
        "id": "view-in-github",
        "colab_type": "text"
      },
      "source": [
        "<a href=\"https://colab.research.google.com/github/StarTitan2004/Test1Jklu/blob/main/CDA_assignment_Decision_Statements_and_Control_Structure_.ipynb\" target=\"_parent\"><img src=\"https://colab.research.google.com/assets/colab-badge.svg\" alt=\"Open In Colab\"/></a>"
      ]
    },
    {
      "cell_type": "code",
      "execution_count": null,
      "metadata": {
        "colab": {
          "base_uri": "https://localhost:8080/"
        },
        "id": "Tab0AyHAPqXz",
        "outputId": "5f89921c-fc37-4a00-86fd-ad57669d3156"
      },
      "outputs": [
        {
          "output_type": "stream",
          "name": "stdout",
          "text": [
            "Enter  the  number  of  bananas24\n",
            "You have 2 dozens and 0 bananas\n"
          ]
        }
      ],
      "source": [
        "###1.\tProgram for calculating bananas in dozen. The user will enter the number of bananas gathered and the program will output the number of dozens as well as the number of excess bananas. Continue this process until a negative number is entered. Example: Enter the number of bananas gathered: 43 You have 3 dozen and 7 bananas.\n",
        "\n",
        "\n",
        "a=int(input(\"Enter  the  number  of  bananas\"))\n",
        "x=int(a//12)\n",
        "y=a-x*12\n",
        "print(\"You have\",x,\"dozens and\", y,\"bananas\")\n"
      ]
    },
    {
      "cell_type": "code",
      "source": [
        "###2.Accept 8-digit number. Separate 8 digits into 4 parts. Display appropriate message in case of number with less digits. Two digits starting from left in one variable.\n",
        "###For example: Input: 31245690, a=31, b=24, c=56, d=90. Print which number is largest. Divide each number by 2, take integer part and create a new number again as abcd.\n",
        "\n",
        "\n",
        "x=int(input(\"Eight digit number :\"))\n",
        "y=str(x)\n",
        "a=y[0:2]\n",
        "b=y[2:4]\n",
        "c=y[4:6]\n",
        "d=y[6:8]\n",
        "print(max(a,b,c,d))\n",
        "k=int(a)//2\n",
        "l=int(b)//2\n",
        "m=int(c)//2\n",
        "n=int(d)//2\n",
        "z=str(k)+str(l)+str(m)+str(n)\n",
        "print(z)\n"
      ],
      "metadata": {
        "id": "a-1Kf-a3P6Fe"
      },
      "execution_count": null,
      "outputs": []
    },
    {
      "cell_type": "code",
      "source": [
        "###3.Write PYTHON program, which will print those numbers whose last digit is between 5 and 9. e.g., 5, 6, 7, 8, 15, 16, 17, 18, 25, 26, ….\n",
        "\n",
        "\n",
        "a=int(input(\"Enter range of no:\"))\n",
        "for i in range(1,a):\n",
        "    if i%10<5:\n",
        "        i=i+1\n",
        "    elif ((i%10)>=5) and ((i%10)<=9):\n",
        "        print(i)\n"
      ],
      "metadata": {
        "colab": {
          "base_uri": "https://localhost:8080/"
        },
        "id": "Z4KLJtNCQnh0",
        "outputId": "c922eb50-ed40-4860-d10e-bdb8024cc06b"
      },
      "execution_count": null,
      "outputs": [
        {
          "name": "stdout",
          "output_type": "stream",
          "text": [
            "Enter range of no:2\n"
          ]
        }
      ]
    },
    {
      "cell_type": "code",
      "source": [
        "###4.\tWrite a python program to read three numbers and user input (a,b,c,d). Check how many numbers between ‘a’ and ‘b’ are divisible by both ‘c’ and ‘d’.\n",
        "\n",
        "\n",
        "a,b,c,d=map(int,input(\" \").split())\n",
        "sumc=0\n",
        "sumd=0\n",
        "for i in range(a+1,b):\n",
        "    if i%c==0:\n",
        "        sumc+=1\n",
        "    elif i%d==0:\n",
        "        sumd+=1\n",
        "print(sumc)\n",
        "print(sumd)"
      ],
      "metadata": {
        "colab": {
          "base_uri": "https://localhost:8080/"
        },
        "id": "eGsWLAlPRJhQ",
        "outputId": "c1134e9d-32fd-46d2-ef10-24748d2d3e02"
      },
      "execution_count": null,
      "outputs": [
        {
          "output_type": "stream",
          "name": "stdout",
          "text": [
            " 1 2 3 4\n",
            "sumc: 0\n",
            "sumc: 0\n"
          ]
        }
      ]
    },
    {
      "cell_type": "code",
      "source": [
        "###5.\tWrite a Python program that accepts a string and calculate the number of digits and letters. \n",
        "\n",
        "s=input(\"  \")\n",
        "num=letter=0\n",
        "for i in s:\n",
        "    if i.isdigit():\n",
        "        num+=1\n",
        "    elif i.isalpha():\n",
        "        letter+=1\n",
        "print('Number of digits:',num)\n",
        "print('Number of letters:',letter)"
      ],
      "metadata": {
        "colab": {
          "base_uri": "https://localhost:8080/"
        },
        "id": "y3XSATwgRhne",
        "outputId": "3a38ad6f-99a4-4b94-bb42-9636c477fd51"
      },
      "execution_count": null,
      "outputs": [
        {
          "output_type": "stream",
          "name": "stdout",
          "text": [
            "  2\n",
            "Total number of digits: 1\n",
            "Total number of letters: 0\n"
          ]
        }
      ]
    },
    {
      "cell_type": "code",
      "source": [
        "###6.\tWrite a Python program to construct the following pattern, using a nested for loop.\n",
        "\n",
        "\n",
        "\n",
        "h = int(input(\"Enter diamond's height: \"))\n",
        "for x in range(h):\n",
        "    print(\" \" * (h - x), \"*\" * (2*x + 1))\n",
        "for x in range(h - 2, -1, -1):\n",
        "    print(\" \" * (h - x), \"*\" * (2*x + 1))"
      ],
      "metadata": {
        "colab": {
          "base_uri": "https://localhost:8080/"
        },
        "id": "UxEQzceZSHiV",
        "outputId": "ff9e604e-a735-43ea-ea57-5a389ed138e7"
      },
      "execution_count": null,
      "outputs": [
        {
          "output_type": "stream",
          "name": "stdout",
          "text": [
            "Enter diamond's height: 3\n",
            "    *\n",
            "   ***\n",
            "  *****\n",
            "   ***\n",
            "    *\n"
          ]
        }
      ]
    },
    {
      "cell_type": "code",
      "source": [
        "###7.\tFind the sum of the series 8 +88 + 888 + 8888 + .. n terms. Take the n from the user. \n",
        "\n",
        "t=int(input())\n",
        "sum=0\n",
        "\n",
        "for i in range(1,t+1):\n",
        "  x=int(\"1\"*i)*8\n",
        "  sum+=x\n",
        "\n",
        "print(sum)\n",
        "\n"
      ],
      "metadata": {
        "id": "qpjkSNZsTCWH",
        "colab": {
          "base_uri": "https://localhost:8080/"
        },
        "outputId": "8f283939-23b7-4650-ab6e-040e277104c5"
      },
      "execution_count": null,
      "outputs": [
        {
          "output_type": "stream",
          "name": "stdout",
          "text": [
            "2\n",
            "96\n"
          ]
        }
      ]
    },
    {
      "cell_type": "code",
      "source": [
        "###8.\tCreate a program that chooses a random number number between 1 and 9. Ask the user for a number between 1 and 9. Compare the user's number to the random number. If the user guessed the random number print \"you guessed it!\", if the user did not guess the random number print back to the user \"try again\". Give 3 chances to the user. \n",
        "\n",
        "\n",
        "import random\n",
        "attempts = 0\n",
        "while attempts<3:   \n",
        "    n=int(input())\n",
        "    list=[]\n",
        "    for i in range(1,10):\n",
        "        list.append(i)\n",
        "    print(\"list:\",list) #printing a random selected number\n",
        "    random_no= random.choice(list)\n",
        "    print('random selected no from list:',random_no)\n",
        "\n",
        "    if random_no==n:\n",
        "        print(\"you guessed it!\")\n",
        "        break\n",
        "    else:\n",
        "        attempts+=1\n",
        "        continue      "
      ],
      "metadata": {
        "colab": {
          "base_uri": "https://localhost:8080/"
        },
        "id": "X-76HbERTwXD",
        "outputId": "3519da16-751e-4d4b-a3a0-26b476990b88"
      },
      "execution_count": null,
      "outputs": [
        {
          "output_type": "stream",
          "name": "stdout",
          "text": [
            "5\n",
            "list: [1, 2, 3, 4, 5, 6, 7, 8, 9]\n",
            "random selected no from list: 4\n",
            "4\n",
            "list: [1, 2, 3, 4, 5, 6, 7, 8, 9]\n",
            "random selected no from list: 6\n",
            "6\n",
            "list: [1, 2, 3, 4, 5, 6, 7, 8, 9]\n",
            "random selected no from list: 2\n"
          ]
        }
      ]
    },
    {
      "cell_type": "code",
      "source": [
        "###9.\tWrite for loop that will print “pbil” when “alphebetical” is the input\n",
        "\n",
        "t=\"alphabetical\"\n",
        "for i in range(len(t)):\n",
        "  if t%i==2:\n",
        "    print(t[i],end=\" \")\n"
      ],
      "metadata": {
        "id": "46M9G7kGURNz",
        "colab": {
          "base_uri": "https://localhost:8080/",
          "height": 226
        },
        "outputId": "48043928-f70c-40ac-d5db-8f1bafac29f3"
      },
      "execution_count": null,
      "outputs": [
        {
          "output_type": "error",
          "ename": "TypeError",
          "evalue": "ignored",
          "traceback": [
            "\u001b[0;31m---------------------------------------------------------------------------\u001b[0m",
            "\u001b[0;31mTypeError\u001b[0m                                 Traceback (most recent call last)",
            "\u001b[0;32m<ipython-input-33-170a205f991f>\u001b[0m in \u001b[0;36m<module>\u001b[0;34m\u001b[0m\n\u001b[1;32m      3\u001b[0m \u001b[0mt\u001b[0m\u001b[0;34m=\u001b[0m\u001b[0;34m\"alphabetical\"\u001b[0m\u001b[0;34m\u001b[0m\u001b[0;34m\u001b[0m\u001b[0m\n\u001b[1;32m      4\u001b[0m \u001b[0;32mfor\u001b[0m \u001b[0mi\u001b[0m \u001b[0;32min\u001b[0m \u001b[0mrange\u001b[0m\u001b[0;34m(\u001b[0m\u001b[0mlen\u001b[0m\u001b[0;34m(\u001b[0m\u001b[0mt\u001b[0m\u001b[0;34m)\u001b[0m\u001b[0;34m)\u001b[0m\u001b[0;34m:\u001b[0m\u001b[0;34m\u001b[0m\u001b[0;34m\u001b[0m\u001b[0m\n\u001b[0;32m----> 5\u001b[0;31m   \u001b[0;32mif\u001b[0m \u001b[0mt\u001b[0m\u001b[0;34m%\u001b[0m\u001b[0mi\u001b[0m\u001b[0;34m==\u001b[0m\u001b[0;36m2\u001b[0m\u001b[0;34m:\u001b[0m\u001b[0;34m\u001b[0m\u001b[0;34m\u001b[0m\u001b[0m\n\u001b[0m\u001b[1;32m      6\u001b[0m     \u001b[0mprint\u001b[0m\u001b[0;34m(\u001b[0m\u001b[0mt\u001b[0m\u001b[0;34m[\u001b[0m\u001b[0mi\u001b[0m\u001b[0;34m]\u001b[0m\u001b[0;34m,\u001b[0m\u001b[0mend\u001b[0m\u001b[0;34m=\u001b[0m\u001b[0;34m\" \"\u001b[0m\u001b[0;34m)\u001b[0m\u001b[0;34m\u001b[0m\u001b[0;34m\u001b[0m\u001b[0m\n",
            "\u001b[0;31mTypeError\u001b[0m: not all arguments converted during string formatting"
          ]
        }
      ]
    },
    {
      "cell_type": "code",
      "source": [
        "###10.\tWrite a program that checks to see if a number N is prime. A simple approach checks all numbers from 2 up to N, but after some point numbers are checked that need not be checked. For example, numbers greater than √N need not be checked. Write a program that checks for primarily and avoids those unnecessary checks. \n",
        "\n",
        "t=int(input())\n",
        "for i in range(2,t**(1//2)):\n",
        "    if t%i==0:\n",
        "        print(\"NOT PRIME\")\n",
        "        break\n",
        "else:\n",
        "    print(\"PRIME\")\n"
      ],
      "metadata": {
        "id": "w8CxfGVlU6NX"
      },
      "execution_count": null,
      "outputs": []
    },
    {
      "cell_type": "code",
      "source": [
        "###11.Create a program that prompts for a positive number greater than 2 (check this condition) and then keeps taking the square root of this number until the square root is less than 2. Print the value each time the square root is taken, along with the number of times the operation has been completed. \n",
        "\n",
        "\n",
        "import math\n",
        "n=int(input())\n",
        "i=1\n",
        "if (n>2):\n",
        "  while True:\n",
        "  n=math.sqrt(n)\n",
        "  print(i,\":\", \"{0:.3f}\".format(n))\n",
        "  if n<2:\n",
        "  break\n",
        "i=i+1\n"
      ],
      "metadata": {
        "id": "x1W5rPguiX5Q"
      },
      "execution_count": null,
      "outputs": []
    },
    {
      "cell_type": "code",
      "source": [
        "###12.\tMake a list of players from the user. Write a program to create two teams randomly selected from the list.\n",
        "\n",
        "\n",
        "import numpy as np\n",
        "import random\n",
        "\n",
        "a = list(map(str, input('Enter list of player: ').split()))\n",
        "lst = list(random.sample(range(0, len(a)), len(a)))\n",
        "b = lst[0:(int(len(a) / 2))]\n",
        "c = lst[(int(len(a) / 2)):len(a) + 1]\n",
        "\n",
        "print(\"Team 1:\")\n",
        "for i in b:\n",
        "    print(a[i])\n",
        "print(\"Team 2:\")\n",
        "for i in c:\n",
        "    print(a[i])"
      ],
      "metadata": {
        "id": "VT5bBwbXi1QB"
      },
      "execution_count": null,
      "outputs": []
    },
    {
      "cell_type": "code",
      "source": [
        "###13.\tTake a 2-digit number as input from the user. Find the square of it, identify the resulting 3-digit number which has its 2 digits at the rightmost position similar to the original digits. \n",
        "\n",
        "\n",
        "n=int(input())\n",
        "nsqr=n**2\n",
        "nAB=nsqr%100\n",
        "if nAB==n:\n",
        "  print(n,\"^ 2 = \",nsqr)\n",
        "  print(\"The ones and tens digit of the square of\",n,\"i.e.\",nsqr,\"have the same value as that of n.\")\n",
        "else:\n",
        " print(\"This number does not satisfy the condition.\")"
      ],
      "metadata": {
        "id": "Mp21uBv8i6iL"
      },
      "execution_count": null,
      "outputs": []
    },
    {
      "cell_type": "code",
      "source": [
        "###14.\tWrite a program which repeatedly takes input of numbers from the user until enters “notmore”. Once “notmore” is entered, print out the total, count, and average of the numbers. If anything, else is given input, ignore that and continue with taking input.\n",
        "\n",
        "\n",
        "numbers=[]\n",
        "while True:\n",
        "  n=input(\"enter number: \")\n",
        "  if n==\"notmore\":\n",
        "    total=sum(numbers)\n",
        "    count=len(numbers)\n",
        "    print(\"total:\",total)\n",
        "    print(\"count:\",count)\n",
        "    print(\"average:\",total / count)\n",
        "    break\n",
        "    if n.isnumeric():\n",
        "      numbers.append(int(n))\n",
        " continue"
      ],
      "metadata": {
        "id": "kLlqCnKxl7ps"
      },
      "execution_count": null,
      "outputs": []
    },
    {
      "cell_type": "code",
      "source": [
        "###15.\tMr. Anant Asankhya is the manager at the INFINITE hotel. The hotel has an infinite number of rooms.   One    fine    day, a finite number    of    tourists    come    to    stay    at    the    hotel. The tourists consist of: → A Captain. → An unknown group of families consisting of members per group where K≠1. The captain was given a separate room, and the rest were given one room per group. Mr. Anant has an unordered list of randomly arranged room entries. The list consists of the room numbers for all the tourists. The room numbers will appear K times per group except for the captain’s room. Mr. Anant needs you to help him find the captain’s room number. The total number of tourists or the total number of groups of families is not known to you. You only know the value of K and the room number list. Find out the captain’s room number.\n",
        "\n",
        "\n",
        "\n"
      ],
      "metadata": {
        "id": "HLYGvcdWnFgk"
      },
      "execution_count": null,
      "outputs": []
    }
  ]
}